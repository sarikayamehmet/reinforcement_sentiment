{
 "cells": [
  {
   "cell_type": "code",
   "execution_count": 1,
   "metadata": {},
   "outputs": [
    {
     "name": "stderr",
     "output_type": "stream",
     "text": [
      "Using TensorFlow backend.\n"
     ]
    }
   ],
   "source": [
    "import torch\n",
    "from torch import nn\n",
    "from torch.utils.data import Dataset, DataLoader\n",
    "import torch.nn.functional as F\n",
    "import numpy as np\n",
    "import pandas as pd\n",
    "import warnings; warnings.filterwarnings('ignore')\n",
    "from keras.preprocessing.text import Tokenizer\n",
    "from keras.preprocessing import sequence\n",
    "import random"
   ]
  },
  {
   "cell_type": "code",
   "execution_count": 2,
   "metadata": {},
   "outputs": [],
   "source": [
    "from data_loader import MRLoader\n",
    "batch_size = 50\n",
    "\n",
    "loader = MRLoader(batch_size)\n",
    "train_loader, test_loader = loader.get_dataset()\n",
    "tokenizer = loader.tokenizer"
   ]
  },
  {
   "cell_type": "code",
   "execution_count": 3,
   "metadata": {},
   "outputs": [],
   "source": [
    "from data_loader import Glove\n",
    "glove = Glove(300)\n",
    "vocab_size, embedding_dim = glove.vocab_size, glove.embedding_dim\n",
    "embedding_matrix = glove.get_embedding(tokenizer)"
   ]
  },
  {
   "cell_type": "code",
   "execution_count": 4,
   "metadata": {},
   "outputs": [],
   "source": [
    "class CNN(nn.Module):\n",
    "    def __init__(self, vocab_size, embedding_dim, fixed_length=300, kernel_num=100, kernel_size=[3, 4, 5]):\n",
    "        super(CNN, self).__init__()\n",
    "        self.vocab_size = vocab_size\n",
    "        self.embedding_dim = embedding_dim\n",
    "        \n",
    "        self.embedding = nn.Embedding(self.vocab_size, self.embedding_dim)\n",
    "        self.conv = nn.ModuleList([\n",
    "            nn.Conv2d(1, kernel_num, (i, self.embedding_dim)) \n",
    "                for i in kernel_size\n",
    "        ])\n",
    "        self.maxpools = [\n",
    "            nn.MaxPool2d((fixed_length+1-i,1)) for i in kernel_size\n",
    "        ]\n",
    "        self.dropout = nn.Dropout(0.5)\n",
    "        self.linear = nn.Linear(len(kernel_size)*kernel_num, 1)\n",
    "        \n",
    "    def set_embedding_weights(self, embedding_matrix):\n",
    "        self.embedding.weight = nn.Parameter(embedding_matrix)\n",
    "    \n",
    "    def forward(self, inp):\n",
    "        x = self.embedding(inp).unsqueeze(1)\n",
    "        x = [\n",
    "            self.maxpools[i](\n",
    "                torch.tanh(conv(x))\n",
    "            ).squeeze(3).squeeze(2) \n",
    "                for i, conv in enumerate(self.conv)\n",
    "        ]\n",
    "        x = torch.cat(x, dim=1)\n",
    "        x = self.dropout(x)\n",
    "        x = self.linear(x)\n",
    "        y = F.sigmoid(x)\n",
    "        return y"
   ]
  },
  {
   "cell_type": "code",
   "execution_count": 16,
   "metadata": {},
   "outputs": [],
   "source": [
    "model = CNN(\n",
    "        vocab_size=vocab_size,\n",
    "        embedding_dim=embedding_dim,\n",
    "        fixed_length=300\n",
    ")\n",
    "for name, w in model.named_parameters():\n",
    "    if 'weight' in name:\n",
    "        nn.init.xavier_normal(w)\n",
    "model.set_embedding_weights(embedding_matrix)"
   ]
  },
  {
   "cell_type": "code",
   "execution_count": 17,
   "metadata": {},
   "outputs": [],
   "source": [
    "learning_rate = 0.05\n",
    "num_epochs = 20"
   ]
  },
  {
   "cell_type": "code",
   "execution_count": 18,
   "metadata": {},
   "outputs": [],
   "source": [
    "histories = []\n",
    "def train_model(num_epochs, val_index=0):\n",
    "    hist = np.zeros(num_epochs*(len(train_loader)))\n",
    "    j = 0\n",
    "    for e in range(num_epochs):\n",
    "        for i, (x, y) in enumerate(train_loader):\n",
    "            if i != val_index:\n",
    "                # Clear stored gradient\n",
    "                model.zero_grad()\n",
    "\n",
    "                # Forward pass\n",
    "                y_pred = model(x.long())\n",
    "                if len(x) < batch_size:\n",
    "                    y_pred = y_pred[:len(x)]\n",
    "\n",
    "                loss = loss_fn(y_pred.view(-1, 1), y.view(-1, 1))\n",
    "                hist[j] = loss.item()\n",
    "                \n",
    "                # Zero out gradient, else they will accumulate between epochs\n",
    "                optimiser.zero_grad()\n",
    "\n",
    "                # Backward pass\n",
    "                loss.backward()\n",
    "                \n",
    "                val_index += 1\n",
    "                if val_index == len(train_loader):\n",
    "                    val_index = 0\n",
    "                # Update parameters\n",
    "                optimiser.step()\n",
    "            j += 1\n",
    "#         val_set = random.choice([(x, y) for x, y in train_loader])\n",
    "        val_set = [(x, y) for x, y in train_loader][val_index]\n",
    "        with torch.no_grad():\n",
    "            model.eval()\n",
    "            x, y = val_set\n",
    "            y_pred = model(x.long())\n",
    "            if len(y) < batch_size:\n",
    "                y_pred = y_pred[:len(y)]\n",
    "            full_num = len(y)\n",
    "            correct_num = (y_pred.reshape(-1, 1).round() == y).sum().item()\n",
    "            print(\"epoch {}, val score: {}\".format(e + 1, correct_num / full_num))\n",
    "#     return hist"
   ]
  },
  {
   "cell_type": "code",
   "execution_count": 19,
   "metadata": {},
   "outputs": [],
   "source": [
    "def test_score():\n",
    "    full_num = 0\n",
    "    correct_num = 0\n",
    "    with torch.no_grad():\n",
    "        model.eval()\n",
    "        losses = []\n",
    "        for i, (x, y) in enumerate(test_loader):\n",
    "            # Forward pass\n",
    "            y_pred = model(x.long())\n",
    "            if len(y) < batch_size:\n",
    "                y_pred = y_pred[:len(y)]\n",
    "\n",
    "            full_num += len(y)\n",
    "            correct_num += (y_pred.reshape(-1, 1).round() == y).sum().item()\n",
    "    print(correct_num / full_num)"
   ]
  },
  {
   "cell_type": "code",
   "execution_count": 9,
   "metadata": {},
   "outputs": [
    {
     "name": "stdout",
     "output_type": "stream",
     "text": [
      "epoch 1, val score: 0.84\n",
      "epoch 2, val score: 0.94\n",
      "epoch 3, val score: 0.9\n",
      "epoch 4, val score: 0.98\n",
      "epoch 5, val score: 0.94\n",
      "epoch 6, val score: 0.98\n",
      "epoch 7, val score: 0.94\n",
      "epoch 8, val score: 0.96\n",
      "epoch 9, val score: 0.98\n",
      "epoch 10, val score: 0.94\n",
      "epoch 11, val score: 0.94\n",
      "epoch 12, val score: 0.92\n",
      "epoch 13, val score: 0.96\n",
      "epoch 14, val score: 0.9\n",
      "epoch 15, val score: 0.94\n",
      "epoch 16, val score: 0.94\n",
      "epoch 17, val score: 0.92\n",
      "epoch 18, val score: 0.94\n",
      "epoch 19, val score: 0.96\n",
      "epoch 20, val score: 0.94\n",
      "0.792\n"
     ]
    }
   ],
   "source": [
    "loss_fn = torch.nn.BCELoss()\n",
    "optimiser = torch.optim.Adadelta(model .parameters(), lr=learning_rate, weight_decay=.03)\n",
    "train_model(20)\n",
    "test_score()"
   ]
  }
 ],
 "metadata": {
  "kernelspec": {
   "display_name": "Python 3",
   "language": "python",
   "name": "python3"
  },
  "language_info": {
   "codemirror_mode": {
    "name": "ipython",
    "version": 3
   },
   "file_extension": ".py",
   "mimetype": "text/x-python",
   "name": "python",
   "nbconvert_exporter": "python",
   "pygments_lexer": "ipython3",
   "version": "3.7.3"
  }
 },
 "nbformat": 4,
 "nbformat_minor": 4
}
